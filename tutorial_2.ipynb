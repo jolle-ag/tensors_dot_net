{
 "cells": [
  {
   "cell_type": "markdown",
   "metadata": {},
   "source": [
    "## Tutorial 2: Tensor Decompositions\n",
    "\n",
    "### As found in [here.](https://www.tensors.net/p-tutorial-2)\n",
    "\n",
    "This tutorial covers the basics of decomposing tensors into products of other tensors, including:\n",
    "\n",
    "* Diagonal, unitary and isometric tensors.\n",
    "* Use of singular value decomposition 'svd' to decompose tensors.\n",
    "* Use of spectral decomposition 'eig' to decompose tensors.\n",
    "* Use of QR decomposition 'qr'.\n",
    "* The Frobenius norm and optimal restricted rank tensor truncations."
   ]
  },
  {
   "cell_type": "code",
   "execution_count": 1,
   "metadata": {},
   "outputs": [],
   "source": [
    "import numpy as np\n",
    "from numpy import linalg as LA\n",
    "from ncon import ncon"
   ]
  },
  {
   "cell_type": "markdown",
   "metadata": {},
   "source": [
    "### Diagonal, unitary and isometric tensors\n",
    "\n",
    "We begin by considering some special types of tensors and their diagrammatic representation:\n",
    "\n",
    "<img src=\"img/tut_2_fig_1.png\" alt=\"drawing\" width=\"550\"/>\n",
    "\n",
    "which from left to right are the identity matrix, a diagonal matrix D and a diagonal tensor.\n",
    "\n",
    "Unitary matrices annihilate to the identity with its conjugate $U^\\dagger$ and we often use arrows to indicate unitarity. In the case of a tensor, it is unitary if there exists a bipartition of the indices (denoted by a dotted line) under which the tensor could be reshaped into a unitary matrix:\n",
    "\n",
    "<img src=\"img/tut_2_fig_2_unitaries.png\" alt=\"drawing\" width=\"550\"/>\n",
    "\n",
    "Isometric matrices will have different dimensions in the indices, $d_1 > d_2$ w/o l.o.g. . When contracted on the larger dimensional index with its conjugate the identity is produced, $W^\\dagger W = 1$. However, contraction on the other way, $W W^\\dagger = P$ produces a projector P:\n",
    "\n",
    "<img src=\"img/tut_2_fig_3_isometric_matrices.png\" alt=\"drawing\" width=\"550\"/>\n",
    "\n",
    "Something similar to the diagrammatic notation for unitaries happens for isometric tensors."
   ]
  },
  {
   "cell_type": "markdown",
   "metadata": {},
   "source": [
    "### Tensor decompositions\n",
    "\n",
    "In this section we discuss how several common matrix decompositions, including the SVD, the spectral decomposition and the QR decomposition are generalized to the case of tensors.\n",
    "\n",
    "#### Singular Value Decomposition (SVD)\n",
    "\n",
    "Given a $d_1 \\times d_2$ matrix A (where $d_1 > d_2$ has been assumed), we want to write it as a product of matrices, $A = U S V^\\dagger$, where $U$ is a $d_1 \\times d_2$ isometric matrix, $V$ is a $d_2 \\times d_2$ unitary matrix and $S$ is a $d_2 \\times d_2$ diagonal matrix with positive, real elements ordered in descending magnitude (called the singular values). The cost of performing the SVD is $O(d_1 d_2^2)$.\n",
    "\n",
    "In the case of a tensor $A$ of $\\text{rank} \\geq 3$, the whole thing proceeds equally as before once we have reshaped $A$ appropriately. The only difference, though, is that $U$ will be an isometric tensor.\n",
    "\n",
    "<img src=\"img/tut_2_svd.png\" alt=\"drawing\" width=\"550\"/>"
   ]
  },
  {
   "cell_type": "code",
   "execution_count": 2,
   "metadata": {},
   "outputs": [
    {
     "name": "stdout",
     "output_type": "stream",
     "text": [
      "2.3505547907798496e-15\n"
     ]
    }
   ],
   "source": [
    "# Example code: SVD of a matrix\n",
    "d1 = 10; d2 = 6\n",
    "\n",
    "A = np.random.rand(d1,d2)\n",
    "\n",
    "[U,S,Vh] = LA.svd(A,full_matrices=False) # If true we would have extra dimensions with zeros\n",
    "\n",
    "# To check result we contract U,S,Vh and we should get A\n",
    "Af = U @ np.diag(S) @ Vh\n",
    "\n",
    "print(LA.norm(Af-A))"
   ]
  },
  {
   "cell_type": "code",
   "execution_count": 3,
   "metadata": {},
   "outputs": [
    {
     "name": "stdout",
     "output_type": "stream",
     "text": [
      "1.2396592612591374e-14\n"
     ]
    }
   ],
   "source": [
    "# Example code: SVD of a tensor\n",
    "d = 10\n",
    "\n",
    "A = np.random.rand(d,d,d)\n",
    "\n",
    "Am = A.reshape(d**2, d)\n",
    "\n",
    "# Now it proceeds as SVD of a matrix\n",
    "Um,Sm,Vh = LA.svd(Am,full_matrices=False)\n",
    "\n",
    "U = Um.reshape(d,d,d); S = np.diag(Sm)\n",
    "\n",
    "# check result\n",
    "Af = ncon([U,S,Vh],[[-1,-2,1],[1,2],[2,-3]])\n",
    "\n",
    "print(LA.norm(Af-A))"
   ]
  },
  {
   "cell_type": "markdown",
   "metadata": {},
   "source": [
    "##### Aside:\n",
    "\n",
    "The SVD is also a useful way of generating random unitary and isometric tensors:"
   ]
  },
  {
   "cell_type": "code",
   "execution_count": 4,
   "metadata": {},
   "outputs": [],
   "source": [
    "# Example of how SVD can generate random unitaries and isometries\n",
    "d1 = 10; d2 = 6;\n",
    "\n",
    "# d1-by-d1 random unitary matrix U\n",
    "U,_,_ = LA.svd(np.random.rand(d1,d1))\n",
    "\n",
    "# d1-by-d2 random isometric matrix W\n",
    "A = np.random.rand(d1,d2);\n",
    "W,_,_ = LA.svd(A, full_matrices=False)"
   ]
  },
  {
   "cell_type": "markdown",
   "metadata": {},
   "source": [
    "### Spectral decomposition:\n",
    "\n",
    "Also known as \"diagonalizing a Hamiltonian\", where we decompose a $d \\times d$ Hermitian matrix $H$ into $H = U D U^\\dagger$, where $U$ is unitary and $D$ is the diagonal matrix of eigenvalues of $H$. Its cost scales as $O(d^3)$.\n",
    "\n",
    "In the case of a tensor, the same thing applies after using the appropriate 'reshape' commands. The differences though, are that the number of eigenvalues is now the product of the indices on each side of $H$, and the tensor $U$ is reshaped into a order $> 2$ isometry.\n",
    "\n",
    "<img src=\"img/tut_2_spectral.png\" alt=\"drawing\" width=\"550\"/>"
   ]
  },
  {
   "cell_type": "code",
   "execution_count": 5,
   "metadata": {},
   "outputs": [
    {
     "name": "stdout",
     "output_type": "stream",
     "text": [
      "4.976362627855249e-15\n"
     ]
    }
   ],
   "source": [
    "# Example code of the spectral decomposition of a Hermitian matrix\n",
    "d = 10\n",
    "A = np.random.rand(d,d)\n",
    "H = 0.5*(A + A.T) # This is a way of making it Hermitian\n",
    "\n",
    "D, U = LA.eigh(H)\n",
    "\n",
    "# Check result\n",
    "Hf = U @ np.diag(D) @ U.T\n",
    "\n",
    "print(LA.norm(Hf-H))"
   ]
  },
  {
   "cell_type": "code",
   "execution_count": 6,
   "metadata": {},
   "outputs": [
    {
     "name": "stdout",
     "output_type": "stream",
     "text": [
      "3.1502272644110215e-15\n"
     ]
    }
   ],
   "source": [
    "# Example code of the spectral decomposition of a Hermitian tensor\n",
    "d = 2\n",
    "A = np.random.rand(d,d,d,d)\n",
    "H = 0.5*(A + A.transpose(2,3,0,1)) # Now we transpose according to diagrammatic rep.\n",
    "\n",
    "D, U = LA.eigh(H.reshape(d**2,d**2))\n",
    "U = U.reshape(d,d,d**2)\n",
    "\n",
    "# Check result\n",
    "Hf = ncon([U,np.diag(D),U], [[-1,-2,1],[1,2],[-3,-4,2]])\n",
    "\n",
    "print(LA.norm(Hf-H))"
   ]
  },
  {
   "cell_type": "markdown",
   "metadata": {},
   "source": [
    "#### Aside:\n",
    "\n",
    "For any matrix $A$, the spectral decompositions of $A A^\\dagger$ and $A^\\dagger A$ are related to the SVD of A as depicted in the following fig:\n",
    "\n",
    "<img src=\"img/tut_2_svd_vs_spectral.png\" alt=\"drawing\" width=\"550\"/>"
   ]
  },
  {
   "cell_type": "markdown",
   "metadata": {},
   "source": [
    "### QR decomposition\n",
    "\n",
    "This is the final decomposition that we consider, and is useful to orthogonalize a TN, as will be discussed later in tutorial 3.\n",
    "\n",
    "Given a $d_1 \\times d_2$ matrix $A$, we want to write it as $A = QR$, where $Q$ is a $d_1 \\times d_2$ isometric matrix and $R$ is a $d_2 \\times d_2$ upper-triangular matrix. The cost scales as $O(d_1 d_2^2)$, which is the same as the SVD, though QR tends to be faster in practice by a constant factor.\n",
    "\n",
    "Again, through appropriate reshaping, this method can be applied to tensors as well.\n",
    "\n",
    "<img src=\"img/tut_2_QR.png\" alt=\"drawing\" width=\"550\"/>\n"
   ]
  },
  {
   "cell_type": "code",
   "execution_count": 7,
   "metadata": {},
   "outputs": [
    {
     "name": "stdout",
     "output_type": "stream",
     "text": [
      "9.836601059614785e-16\n"
     ]
    }
   ],
   "source": [
    "# Example code of QR decomposition of a matrix\n",
    "d1 = 10; d2 = 6\n",
    "A = np.random.rand(d1,d2)\n",
    "\n",
    "Q,R = LA.qr(A)\n",
    "\n",
    "# Check result\n",
    "Af = Q @ R\n",
    "\n",
    "print(LA.norm(Af-A))"
   ]
  },
  {
   "cell_type": "code",
   "execution_count": 8,
   "metadata": {},
   "outputs": [
    {
     "name": "stdout",
     "output_type": "stream",
     "text": [
      "4.2209713900338e-15\n"
     ]
    }
   ],
   "source": [
    "# Example code of QR decomposition of a tensor\n",
    "d = 10\n",
    "A = np.random.rand(d,d,d)\n",
    "\n",
    "Qm,R = LA.qr(A.reshape(d**2,d))\n",
    "Q = Qm.reshape(d,d,d)\n",
    "\n",
    "# Check result\n",
    "Af = ncon([Q,R], [[-1,-2,1],[1,-3]])\n",
    "\n",
    "print(LA.norm(Af-A))"
   ]
  },
  {
   "cell_type": "markdown",
   "metadata": {},
   "source": [
    "### Frobenius norm for tensors\n",
    "\n",
    "Given a matrix $A$, the norm $||A||$ is defined as the square-root of the sum of the magnitude of each element squared,\n",
    "$$||A|| = \\sqrt{\\sum_{ij} |A_{ij}|^2} = \\sqrt{\\text{tr} (A^\\dagger A)}.$$\n",
    "The extension to tensors with order $> 2$ is very straight-forward; either extend the summation to include all indices or replace the trace with a tensor trace Ttr. In Python, the Frobenius norm is already LA.norm(A).\n",
    "\n",
    "A useful property of the Frobenius norm is that $\\text{Ttr}(A^\\dagger A)$ is the square root of the sum of the singular values squared:\n",
    "\n",
    "$$\\text{Ttr}(A^\\dagger A) = \\sum_k s_k^2.$$\n",
    "\n",
    "The proof is obvious and very nice to see visually using tensor diagrams:\n",
    "\n",
    "<img src=\"img/tut_2_frobenius_svd_proof.png\" alt=\"drawing\" width=\"550\"/>\n",
    "\n",
    "The usefulness of the Frobenius norm comes when approximating some tensor $A$ with another tensor $B$ of equal size. It's useful to define the error of the approximation $\\varepsilon$ as\n",
    "\n",
    "$$\\varepsilon = \\frac{||A - B||}{||A||}$$\n"
   ]
  },
  {
   "cell_type": "markdown",
   "metadata": {},
   "source": [
    "### Restricted rank tensor approximations\n",
    "\n",
    "We're given some tensor $A$ and some bipartition of its indices. If $A$ can be written as $A = B \\cdot C$, we define the decomposition rank $r$ as the dimension of the index contracted between $B$ and $C$. Although this will not be proved here, it can be shown that the decomposition rank $r$ of tensor $A$ across a partition precisely equals the number of non-zero singular values in the SVD across the partition.\n",
    "\n",
    "A useful application of the SVD thus is that it allows one to find the optimal restricted rank approximation to a tensor. Given a tensor $A$ that has decomposition rank $r$ with respect to some specified partition of its indices, let's assume that we wish to find an equivalent sized tensor $B$ of reduced rank, $\\chi < r$, that best approximates $A$.\n",
    "\n",
    "The factorization that minimizes the truncation error $\\varepsilon$ can be obtained directly from the SVD of $A$ by simply 'trimming' the smallest singular values and truncating the $U$ and $V$ matrices accordingly. This is demonstrated below by approximating order-5 tensor $A$ with an order-5 tensor $B$ that has rank $\\chi = 8$ across the partition indicated, using the truncated SVD:\n",
    "\n",
    "<img src=\"img/D15.png\" alt=\"drawing\" width=\"650\"/>"
   ]
  },
  {
   "cell_type": "code",
   "execution_count": 20,
   "metadata": {},
   "outputs": [
    {
     "data": {
      "image/png": "[encoded data removed]",
      "text/plain": [
       "<Figure size 432x288 with 1 Axes>"
      ]
     },
     "metadata": {
      "needs_background": "light"
     },
     "output_type": "display_data"
    }
   ],
   "source": [
    "import time\n",
    "d = 10\n",
    "A = np.random.rand(d,d,d,d,d)\n",
    "\n",
    "# SVD\n",
    "Um, S, Vhm = LA.svd(A.reshape(d**3,d**2), full_matrices=False)\n",
    "U = Um.reshape(d,d,d,d**2)\n",
    "Vh = Vhm.reshape(d**2,d,d)\n",
    "\n",
    "# Truncation\n",
    "def trunc(chi):\n",
    "    Vht = Vh[:chi,:,:]\n",
    "    St = np.diag(S[:chi])\n",
    "    Ut = U[:,:,:,:chi]\n",
    "\n",
    "    B = ncon([Ut,St,Vht],[[-1,-2,-3,1],[1,2],[2,-4,-5]])\n",
    "    \n",
    "    return B\n",
    "\n",
    "# Comparison\n",
    "epsL = []\n",
    "for chi in range(1,d**2):\n",
    "    B = trunc(chi)\n",
    "    epsAB = LA.norm(A-B)/LA.norm(A)\n",
    "    epsL.append(epsAB)\n",
    "#    print('chi:'+str(chi)+', eps:'+str(round(epsAB,4))+', t:'+str(round(tf-t0,4))+'s')\n",
    "\n",
    "import matplotlib.pyplot as plt\n",
    "fig = plt.figure()\n",
    "plt.plot(range(1,d**2), np.log(epsL)/np.log(10))\n",
    "plt.xlabel('chi')\n",
    "plt.ylabel('Log10(eps)')\n",
    "plt.show()"
   ]
  },
  {
   "cell_type": "markdown",
   "metadata": {},
   "source": [
    "A useful concept is the effective rank to accuracy $\\Delta$ of a tensor, denoted as $r(\\Delta)$ and defined as the number of singular values greater than or equal to $\\Delta$ across the decomposition. In many cases (particularly if the spectrum of singular values is sharply decaying) then the error $\\varepsilon$ in truncating a tensor to rank $r(\\Delta)$ will be $\\varepsilon \\approx \\Delta$, since $\\varepsilon = \\sqrt{\\sum_{k > \\chi} s_k^2}$ will be dominated by the largest singular value that is truncated. Thus the value $\\Delta$ often serves as a useful proxy for the true truncation error $\\varepsilon$."
   ]
  },
  {
   "cell_type": "code",
   "execution_count": 29,
   "metadata": {},
   "outputs": [
    {
     "name": "stdout",
     "output_type": "stream",
     "text": [
      "delta:0.01, r(delta):450, eps:0.0404\n"
     ]
    }
   ],
   "source": [
    "# Example: effective rank\n",
    "d = 500\n",
    "\n",
    "# We will generate a Toeplitz matrix\n",
    "A = np.diag(np.ones(d-1),-1) + np.diag(np.ones(d-1),1)\n",
    "A /= LA.norm(A)\n",
    "\n",
    "# Compute effective rank to accuracy 'deltaval'\n",
    "deltaval = 1e-2\n",
    "Um, Sm, Vhm = LA.svd(A)\n",
    "\n",
    "r_delta = sum(Sm > deltaval) # This gives the number of elements in Sm larger than deltaval\n",
    "\n",
    "eps_err = np.sqrt(sum(Sm[r_delta:]**2)) # Associated error to r_delta\n",
    "\n",
    "print('delta:'+str(deltaval)+', r(delta):'+str(r_delta)+', eps:'+str(round(eps_err,4)))"
   ]
  },
  {
   "cell_type": "markdown",
   "metadata": {},
   "source": [
    "### Outlook: Tensor Decompositions\n",
    "\n",
    "Optimal restricted rank tensor approximations play a central role in TN theory and are also essential ingredients to most TN algorithms. In fact, most common TN algorithms are simply composed of some combination of contraction steps (see Tutorial 1), together with some combination of tensor decompositions. Thus we have already learned the foundational tools of TN methods!\n",
    "\n",
    "Subsequent tutorials will discuss how these tools can be applied and composed into algorithms for certain tasks."
   ]
  },
  {
   "cell_type": "markdown",
   "metadata": {},
   "source": [
    "## Problem Set 2:\n",
    "\n",
    "Tensor $A$ is an order-4 tensor that we define element-wise as:\n",
    "\n",
    "<img src=\"img/D21.png\" alt=\"drawing\" width=\"500\"/>\n",
    "\n",
    "**(a)** Assume that indices i,j are of dimension $d_1$ and indices k, l are of dimension $d_2$ ($d_2 < d_1$ as usual). How does the cost of taking the SVD across the indicated partition scale with $d_1$ and $d_2$?\n",
    "\n",
    "**(b)** Generate the tensor $A$ for $d_1=10$ and $d_2 = 8$. What is the norm $||A||$? After computing the norm construct the normalized tensor $A \\to \\frac{A}{||A||}$.\n",
    "\n",
    "**(c)** Take the SVD of $A$ across the indicated partition. Check that the square root of the sum of the singular values squared is equal to 1. Why is this the case?\n",
    "\n",
    "**(d)** What is the effective rank $r(\\Delta)$ of $A$ at $\\Delta = 1\\text{e-4}$?\n",
    "\n",
    "**(e)** Compute the truncation error $\\varepsilon$ of the restricted rank approximation $r(\\Delta = 1\\text{e-4})$ indirectly using the singular values $\\left(\\varepsilon = \\sqrt{\\sum_{k > \\chi} s_k^2} \\right)$.\n",
    "\n",
    "**(f)** Construct the optimal restricted rank approximation to A via the truncated SVD. Compute the truncation error $\\varepsilon$ of this approximation and check that your answer is consistent with part (e).\n",
    "\n",
    "---"
   ]
  },
  {
   "cell_type": "markdown",
   "metadata": {},
   "source": [
    "### My Solutions:\n",
    "\n",
    "**(a)** For a matrix with dimensions $d_1$ and $d_2$ ($d_2 < d_1$) the cost of SVD scales as $O(d_1 d_2^2)$. In our case, we can reshape $A$ into a matrix with dimensions $d_1^2$ and $d_2^2$. Therefore, the cost of the SVD of A will be $O(d_1^2 d_2^4)$."
   ]
  },
  {
   "cell_type": "markdown",
   "metadata": {},
   "source": [
    "**(b)**"
   ]
  },
  {
   "cell_type": "code",
   "execution_count": 31,
   "metadata": {},
   "outputs": [
    {
     "name": "stdout",
     "output_type": "stream",
     "text": [
      "554.2562584220408\n"
     ]
    }
   ],
   "source": [
    "# Generate A with d1=10 and d2=8\n",
    "d1 = 10; d2 = 8\n",
    "\n",
    "A = np.zeros((d1,d1,d2,d2))\n",
    "\n",
    "for i in range(d1):\n",
    "    for j in range(d1):\n",
    "        for k in range(d2):\n",
    "            for l in range(d2):\n",
    "                A[i,j,k,l] = np.sqrt(i + 2*j + 3*k + 4*l + 10)\n",
    "\n",
    "# Norm of A\n",
    "print(LA.norm(A))\n",
    "\n",
    "# Normalize A\n",
    "A /= LA.norm(A)"
   ]
  },
  {
   "cell_type": "markdown",
   "metadata": {},
   "source": [
    "**(c)**"
   ]
  },
  {
   "cell_type": "code",
   "execution_count": 35,
   "metadata": {},
   "outputs": [
    {
     "name": "stdout",
     "output_type": "stream",
     "text": [
      "1.0000000000000002\n"
     ]
    }
   ],
   "source": [
    "# Take SVD\n",
    "Um, S, Vhm = LA.svd(A.reshape(d1**2,d2**2), full_matrices=False)\n",
    "\n",
    "U = Um.reshape(d1,d1,d2**2)\n",
    "Vh = Vhm.reshape(d2**2,d2,d2)\n",
    "\n",
    "# Check that singular values 'sum' to 1\n",
    "s_sum = np.sqrt(sum(S**2))\n",
    "\n",
    "print(s_sum)\n",
    "\n",
    "# They sum to 1 because ||A||=1"
   ]
  },
  {
   "cell_type": "markdown",
   "metadata": {},
   "source": [
    "**(d)** and **(e)**"
   ]
  },
  {
   "cell_type": "code",
   "execution_count": 42,
   "metadata": {},
   "outputs": [
    {
     "name": "stdout",
     "output_type": "stream",
     "text": [
      "delta:0.0001, r(delta):3, eps:1.048e-05\n"
     ]
    }
   ],
   "source": [
    "# Effective rank r_delta at deltaval = 1e-4\n",
    "deltaval = 1e-4\n",
    "\n",
    "r_delta = sum(S > deltaval) # This gives the number of elements in S larger than deltaval\n",
    "\n",
    "eps_err = np.sqrt(sum(S[r_delta:]**2)) # Associated error to r_delta\n",
    "\n",
    "print('delta:'+str(deltaval)+', r(delta):'+str(r_delta)+', eps:'+str(round(eps_err,8)))"
   ]
  },
  {
   "cell_type": "markdown",
   "metadata": {},
   "source": [
    "**(f)** Optimal restricted rank approximation to $A$ means taking $\\chi = r(\\Delta)$"
   ]
  },
  {
   "cell_type": "code",
   "execution_count": 43,
   "metadata": {},
   "outputs": [
    {
     "name": "stdout",
     "output_type": "stream",
     "text": [
      "1.048e-05\n"
     ]
    }
   ],
   "source": [
    "# Truncation\n",
    "def trunc(chi):\n",
    "    Vht = Vh[:chi,:,:]\n",
    "    St = np.diag(S[:chi])\n",
    "    Ut = U[:,:,:chi]\n",
    "\n",
    "    B = ncon([Ut,St,Vht],[[-1,-2,1],[1,2],[2,-4,-5]])\n",
    "    \n",
    "    return B\n",
    "\n",
    "# Comparison\n",
    "chi = r_delta\n",
    "B = trunc(chi)\n",
    "epsAB = LA.norm(A-B)\n",
    "print(round(epsAB,8))"
   ]
  },
  {
   "cell_type": "markdown",
   "metadata": {},
   "source": [
    "We see that errors in **(e)** and **(f)** are identical up to numerical accuracy!"
   ]
  },
  {
   "cell_type": "code",
   "execution_count": null,
   "metadata": {},
   "outputs": [],
   "source": []
  }
 ],
 "metadata": {
  "kernelspec": {
   "display_name": "Python 3",
   "language": "python",
   "name": "python3"
  },
  "language_info": {
   "codemirror_mode": {
    "name": "ipython",
    "version": 3
   },
   "file_extension": ".py",
   "mimetype": "text/x-python",
   "name": "python",
   "nbconvert_exporter": "python",
   "pygments_lexer": "ipython3",
   "version": "3.8.5"
  }
 },
 "nbformat": 4,
 "nbformat_minor": 2
}
