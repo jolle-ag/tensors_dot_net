{
 "cells": [
  {
   "cell_type": "markdown",
   "metadata": {},
   "source": [
    "### [Tutorial 1](https://www.tensors.net/p-tutorial-1) from tensors.net: Tensor Contractions\n",
    "\n",
    "We'll learn the basics of manipulating tensors and contracting TN efficiently, including:\n",
    "\n",
    "* Initialization of tensors\n",
    "* Diamgrammatic notation for tensors and TN\n",
    "* Manipulation tensors via 'permute' and 'reshape' functions\n",
    "* Binary tensor contractions and computational costs\n",
    "* Use of 'ncon' routine to contract TN"
   ]
  },
  {
   "cell_type": "code",
   "execution_count": 1,
   "metadata": {},
   "outputs": [],
   "source": [
    "import numpy as np"
   ]
  },
  {
   "cell_type": "code",
   "execution_count": 3,
   "metadata": {},
   "outputs": [
    {
     "name": "stdout",
     "output_type": "stream",
     "text": [
      "[[[0.90962708 0.72760315 0.20338668 0.29309864]\n",
      "  [0.65924345 0.34166245 0.88935753 0.82431396]\n",
      "  [0.00179676 0.86935287 0.37809208 0.01198909]]\n",
      "\n",
      " [[0.53138278 0.42469535 0.41744175 0.11251908]\n",
      "  [0.81120895 0.62099027 0.52455088 0.31874153]\n",
      "  [0.76887779 0.16764894 0.53868505 0.84676683]]]\n"
     ]
    }
   ],
   "source": [
    "# In Python, tensors are multidimensional (real or complex) arrays:\n",
    "A = np.random.rand(2,3,4) # Random rank 3, dims: 2x3x4\n",
    "print(A)"
   ]
  },
  {
   "cell_type": "markdown",
   "metadata": {},
   "source": [
    "##### Binary tensor contractions\n",
    "\n",
    "Given $A_{ijkl}$ and $B_{ijkl}$, we want to evaluate tensor $C_{ijkl} = \\sum_{mn} A_{imjn} B_{mkln}$.\n",
    "\n",
    "##### Method:\n",
    "\n",
    "1. Permute the A and B tensors such that the indices to be contracted become the trailing and leading indices respectively (with consistent order between both tensors)\n",
    "\n",
    "2. Reshape tensors into matrices (between indices to be contracted vs the remaining indices)\n",
    "\n",
    "3. Do the matrix multiplication\n",
    "\n",
    "4. Reshape C back into a tensor, perform final permutation if desired index ordering is different from current ordering\n",
    "\n",
    "##### In our case:\n",
    "\n",
    "Want to contract the 2nd index of A w/ 1st index of B and last index of A w/ last index of B. Therefore, I reorder the (0,1,2,3) indices of A $\\to (0,2,1,3)$ so that the indices to be contracted are trailing, and for B: $(0,1,2,3) \\to (0,3,1,2)$ the indices are leading.\n",
    "\n",
    "When reshaping A and B as matrices (i.e. rank-2 tensors) they must be dimension (dimension indices to be contracted) x (the rest)"
   ]
  },
  {
   "cell_type": "code",
   "execution_count": 10,
   "metadata": {},
   "outputs": [
    {
     "name": "stdout",
     "output_type": "stream",
     "text": [
      "d:100 , time(s):41.9643\n"
     ]
    }
   ],
   "source": [
    "import time\n",
    "\n",
    "#Choose some number for dimension\n",
    "d = 100\n",
    "\n",
    "t0 = time.time()\n",
    "# Initialize tensors A and B (rank 4)\n",
    "A = np.random.rand(d,d,d,d)\n",
    "B = np.random.rand(d,d,d,d)\n",
    "\n",
    "# Reorder A and B\n",
    "Ap = A.transpose(0,2,1,3)\n",
    "Bp = B.transpose(0,3,1,2)\n",
    "\n",
    "# Reshape A and B. In this case the two dims (of contracted and the rest) are equal\n",
    "App = Ap.reshape(d**2, d**2)\n",
    "Bpp = Bp.reshape(d**2, d**2)\n",
    "\n",
    "# Perform matrix multiplication\n",
    "Cpp = App @ Bpp\n",
    "\n",
    "# Reshape C back to rank-4\n",
    "C = Cpp.reshape(d,d,d,d)\n",
    "\n",
    "tf = time.time()\n",
    "\n",
    "print('d:'+str( d), ', time(s):'+str( round(tf-t0, 4)))"
   ]
  },
  {
   "cell_type": "markdown",
   "metadata": {},
   "source": [
    "##### Some time comparisons for different d\n",
    "\n",
    "d = 10, t = 0.0014s\n",
    "\n",
    "d = 20, t = 0.0161s\n",
    "\n",
    "d = 50, t = 0.6864s\n",
    "\n",
    "d = 100, t = 41.9643s"
   ]
  },
  {
   "cell_type": "code",
   "execution_count": 13,
   "metadata": {},
   "outputs": [
    {
     "data": {
      "image/png": "[encoded data removed]",
      "text/plain": [
       "<Figure size 432x288 with 1 Axes>"
      ]
     },
     "metadata": {
      "needs_background": "light"
     },
     "output_type": "display_data"
    }
   ],
   "source": [
    "import matplotlib.pyplot as plt\n",
    "\n",
    "d_test = [10, 20, 50, 100]\n",
    "t_test = [0.0014, 0.0161, 0.6864, 41.9643]\n",
    "\n",
    "plt.semilogy(d_test, t_test)\n",
    "plt.xlabel('d')\n",
    "plt.ylabel('time(s)')\n",
    "plt.show()"
   ]
  },
  {
   "cell_type": "markdown",
   "metadata": {},
   "source": [
    "#### Contraction costs\n",
    "\n",
    "The cost of multiplying a $d_1 \\times d_2$ matrix A with a $d_2 \\times d_3$ matrix B is:\n",
    "$$ \\text{cost}(A \\cdot B) = d_1 \\cdot d_2 \\cdot d_3. $$\n",
    "Given the equivalence with matrix multiplication, this is also the cost of a binary tensor contraction (we're thinking of step 3 in the method of tensor contraction, right after reshaping A and B).\n",
    "\n",
    "Another way of computing the cost of contracting A and B is to take the product of the total dimensions, denoted $|\\text{dim}(A)|$ and $|\\text{dim}(B)|$, divided by the total dimension of the contracted indices, denoted $|\\text{dim}(A \\cap B)|$:\n",
    "\n",
    "$$\\text{cost}(A \\cdot B) = \\frac{|\\text{dim}(A)| |\\text{dim}(B)|}{|\\text{dim}(A \\cap B)|}$$\n",
    "\n",
    "**Example:** Assume A is rank-3 and B is rank-4, each index of which is d-dimensional.\n",
    "\n",
    "$$ |\\text{dim}(A)| = d^3, \\quad |\\text{dim}(B)| = d^4 $$\n",
    "\n",
    "We contract 2 indices, so \n",
    "\n",
    "$$|\\text{dim}(A \\cap B)| = d^2.$$\n",
    "\n",
    "Therefore,\n",
    "\n",
    "$$\\text{cost}(A \\cdot B) = \\frac{d^3 \\cdot d^4}{d^2} = d^5.$$\n",
    "\n",
    "Broadly speaking, there are two approaches to contract a TN (more than 2 tensors):\n",
    "\n",
    "1. In a single step as a direct summation over all internal indices of the TN\n",
    "\n",
    "2. As a sequence of N-1 binary contractions\n"
   ]
  },
  {
   "cell_type": "code",
   "execution_count": 16,
   "metadata": {},
   "outputs": [],
   "source": [
    "# Example of a TN evaluation made of 3 (rank-2) tensors\n",
    "d = 10\n",
    "\n",
    "# Initialize tensors\n",
    "A = np.random.rand(d,d)\n",
    "B = np.random.rand(d,d)\n",
    "C = np.random.rand(d,d)\n",
    "\n",
    "# Evaluate TN via sequence of binary contractions\n",
    "TN = (A @ B) @ C"
   ]
  },
  {
   "cell_type": "markdown",
   "metadata": {},
   "source": [
    "Something important that we have to bear in mind is that the TN cost depends on the sequence of binary contractions used, i.e.  $\\text{cost}((A @ B) @ C) \\neq  \\text{cost}((A @ C) @ B)$ in general. Thus, when contracting a TN we'll first have to determine the optimal sequence of the N-1 binary contractions.\n",
    "\n",
    "Given a tensor network with only a few tensors it is often easy to find the optimal sequence ‘manually’ through inspection of the network. For more complicated networks with a large number of tensors it may be necessary to employ an automated search algorithm such as [this one](https://arxiv.org/abs/1304.6112).\n",
    "\n",
    "Once the optimal contraction sequence has been determined, a TN can be evaluated by implementing each of the binary contractions in turn. However, using ‘reshape’ and ‘permute’ commands for each binary tensor contraction, although computationally effective, has two significant drawbacks: \n",
    "\n",
    "($i$) It results in lengthy code that is error prone and difficult to check and \n",
    "\n",
    "($ii$) It does not allow for the contraction sequence to be easily changed (as, in general, the entire code for the contraction would need to be rewritten to accommodate a different ordering)."
   ]
  },
  {
   "cell_type": "markdown",
   "metadata": {},
   "source": [
    "##### TN contractor 'ncon':\n",
    "\n",
    "In order to lessen the programming effort required to implement a TN contraction people invented the 'ncon' function. This function works by automatically performing a desired sequence of permutes, reshapes and matrix multiplications required to evaluate a TN.\n",
    "\n",
    "The 'ncon' code and documentation can be found [here](https://arxiv.org/abs/1402.0939) (though it's MATLAB). Alternatively, in tensors.net there is an example code [page](https://www.tensors.net/code). The first step in using 'ncon' is to make a labelled diagram of the TN such that:\n",
    "\n",
    "* Each internal index is labelled with a unique positive integer.\n",
    "\n",
    "* External indices of the diagram (if any) are labelled with sequential negative numbers $[-1,-2,-3,\\text{...}]$, which denote the desired index order on the final tensor (with -1 as the 1st index, -2 the 2nd, etc.).\n",
    "\n",
    "Following this, the 'ncon' routine is called as follows,\n",
    "\n",
    "$$\\text{OutputTensor} = \\text{ncon(TensorArray, IndexArray, ContOrder)},$$\n",
    "\n",
    "with input arguments defined:\n",
    "\n",
    "* **TensorArray:** 1D cell array containing the tensors comprising the TN.\n",
    "\n",
    "* **IndexArray:** 1D cell array of vectors, whete the kth element is a vector of the integer labels from the diagram on the kth tensor from 'TensorArray'.\n",
    "\n",
    "* **ContOrder:** a vector containing the positive integer labels from the diagram, used to specify order in which 'ncon' contracts the indices. This is an optional input that can be omitted if desired, in which case 'ncon' will contract in ascending order of index labels."
   ]
  },
  {
   "cell_type": "markdown",
   "metadata": {},
   "source": [
    "#### Example of TN contraction using 'ncon':\n",
    "\n",
    "<center> <b>Network contraction:<b>\n",
    "\n",
    "<img src=\"img/tutorial_1_ncon_example_1.png\" alt=\"drawing\" width=\"250\"/>\n",
    "\n",
    "<center> <b>Labelled network:<b>\n",
    "\n",
    "<img src=\"img/tutorial_1_ncon_example_2.png\" alt=\"drawing\" width=\"200\"/>"
   ]
  },
  {
   "cell_type": "code",
   "execution_count": 4,
   "metadata": {},
   "outputs": [],
   "source": [
    "from ncon import ncon\n",
    "\n",
    "# Initialize tensors of the TN\n",
    "d = 10\n",
    "A = np.random.rand(d,d,d)\n",
    "B = np.random.rand(d,d,d,d)\n",
    "C = np.random.rand(d,d,d)\n",
    "D = np.random.rand(d,d)\n",
    "\n",
    "# List of tensors in the TN\n",
    "TensorArray = [A, B, C, D]\n",
    "\n",
    "# Ordered indices labelled by clockwise starting at 6 o'clock\n",
    "IndexArray = [[1, -2, 2], [-1, 1, 3, 4], [5, 3, 2], [4, 5]]\n",
    "\n",
    "# TN evaluation using ncon\n",
    "E = ncon(TensorArray, IndexArray)"
   ]
  },
  {
   "cell_type": "markdown",
   "metadata": {},
   "source": [
    "#### Problem 1(b):\n",
    "\n",
    "Given the following diagram:\n",
    "\n",
    "<img src=\"img/tut_1_pb_1b.png\" alt=\"drawing\" width=\"550\"/>\n",
    "\n",
    "Initialize rank-3 tensors A, B, C (d = 20). Write code to evaluate the network contraction in two different ways:\n",
    "\n",
    "* As a sequence of binary contractions implemented using 'permute' and 'reshape'\n",
    "\n",
    "* Using the 'ncon' routine\n",
    "\n",
    "Check that both approaches produce the same output tensor D, and compare their respective computation times"
   ]
  },
  {
   "cell_type": "code",
   "execution_count": 31,
   "metadata": {},
   "outputs": [
    {
     "name": "stdout",
     "output_type": "stream",
     "text": [
      "ncon:0.0036s\n",
      "binary:0.0016s\n",
      "1.0572875908110292e-12\n"
     ]
    }
   ],
   "source": [
    "import time\n",
    "from ncon import ncon\n",
    "\n",
    "# Initialize tensors\n",
    "d = 20\n",
    "A = np.random.rand(d,d,d)\n",
    "B = np.random.rand(d,d,d)\n",
    "C = np.random.rand(d,d,d)\n",
    "\n",
    "# First go for 'ncon' (easier)\n",
    "t0 = time.time()\n",
    "\n",
    "# List of tensors in the TN\n",
    "TensorArray = [A, B, C]\n",
    "\n",
    "# Ordered indices labelled by clockwise starting at 6 o'clock\n",
    "IndexArray = [[1, -2, 2], [-1, 1, 3], [3, 2, -3]]\n",
    "\n",
    "# TN evaluation using ncon\n",
    "D_ncon = ncon(TensorArray, IndexArray)\n",
    "\n",
    "tf = time.time()\n",
    "\n",
    "print('ncon:'+str(round(tf-t0, 4))+'s')\n",
    "\n",
    "\n",
    "# Now go for binary contractions. Had to think more\n",
    "t0 = time.time()\n",
    "\n",
    "AB = (A.transpose(1,2,0).reshape(d**2,d) @ B.transpose(1,2,0).reshape(d,d**2)).reshape(d,d,d,d)\n",
    "\n",
    "D = (AB.transpose(3,0,2,1).reshape(d**2,d**2) @ C.reshape(d**2,d)).reshape(d,d,d)\n",
    "\n",
    "tf = time.time()\n",
    "\n",
    "print('binary:'+str(round(tf-t0, 4))+'s')\n",
    "\n",
    "print(np.sum(D_ncon-D)/len(D))"
   ]
  },
  {
   "cell_type": "code",
   "execution_count": null,
   "metadata": {},
   "outputs": [],
   "source": []
  }
 ],
 "metadata": {
  "kernelspec": {
   "display_name": "Python 3",
   "language": "python",
   "name": "python3"
  },
  "language_info": {
   "codemirror_mode": {
    "name": "ipython",
    "version": 3
   },
   "file_extension": ".py",
   "mimetype": "text/x-python",
   "name": "python",
   "nbconvert_exporter": "python",
   "pygments_lexer": "ipython3",
   "version": "3.8.5"
  }
 },
 "nbformat": 4,
 "nbformat_minor": 2
}
