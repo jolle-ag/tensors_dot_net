{
 "cells": [
  {
   "cell_type": "markdown",
   "metadata": {},
   "source": [
    "## Tutorial 4: Canonical Forms\n",
    "\n",
    "### As found in [here](https://www.tensors.net/tutorial-4)\n",
    "\n",
    "In this (last?) tutorial we shall build upon and extend some of the ideas introduced in Tutorial 3, including how to properly compose multiple tensor decompositions as well as more sophisticated means to fix the gauge degrees of freedom, leading to the notion of a canonical form for TN. Topics include:\n",
    "\n",
    "* Multi-stage tensor decompositions\n",
    "* Centers of orthogonality on tensor links\n",
    "* Canonical forms of TN"
   ]
  },
  {
   "cell_type": "code",
   "execution_count": 2,
   "metadata": {},
   "outputs": [],
   "source": [
    "import numpy as np\n",
    "from numpy import linalg as LA\n",
    "from ncon import ncon"
   ]
  },
  {
   "cell_type": "markdown",
   "metadata": {},
   "source": [
    "### Multi-stage tensor decompositions\n",
    "\n",
    "We begin by addressing an important problem: given a many-index tensor $H$, how can we accurately decompose this into a network of $T$ tensors $\\{A, B, C, ... \\}$ according to some prescribed geometry, for instance, as depicted below? More precisely, we'd like to find a choice of tensors that minimizes the difference $|| H - T ||$ from the original tensor, given some fixed dimension $\\chi$ of the internal indices in $T$.\n",
    "\n",
    "<img src=\"img/fig1.png\" alt=\"drawing\" width=\"500\"/>\n",
    "\n",
    "In order to obtain the network approximation to a tensor we shall employ a multi-stage decomposition: a sequence of single tensor decompositions via the SVD. The results from tutorial 3 already inform us of the correct way to perform a multi-stage decomposition: the tensor to be decomposed at each step should be a center of orthogonality, which will ensure that the global truncation error is minimized.\n",
    "\n",
    "The figure below illustrates a sequence of single tensor decompositions that take a single tensor $H_0$ into the network $T$ of the previous figure. At each step, a tensor $H_k$ is split using a truncated SVD (retaining the desired rank $\\chi$) into a product of three tensors $\\{U_k, S_k, V_k \\}$ across the partition indicated by the dashed line, where we have coloured isometric tensors orange. The matrix of singular values $S_k$ is then absorbed into the tensor that is to be decomposed at the next step, such that it becomes a center of orthogonality. This process is repeated until the desired network geometry is reached.\n",
    "\n",
    "<img src=\"img/fig2.png\" alt=\"drawing\" width=\"700\"/>\n",
    "\n"
   ]
  },
  {
   "cell_type": "code",
   "execution_count": 3,
   "metadata": {},
   "outputs": [
    {
     "name": "stdout",
     "output_type": "stream",
     "text": [
      "6.381973359135423e-05\n"
     ]
    }
   ],
   "source": [
    "##### Example code: multi-stage decomposition\n",
    "\n",
    "d = 5 # local dimension\n",
    "chi = 3 # max internal dimension \n",
    "H0 = (np.sqrt(1+np.arange(d**7))).reshape(d,d,d,d,d,d,d).transpose(6,5,4,3,2,1,0)\n",
    "\n",
    "# first decomposition\n",
    "utemp,stemp,vhtemp = LA.svd(H0.reshape(d**2,d**5),full_matrices=False)\n",
    "U0 = (utemp[:,:chi]).reshape(d,d,chi)\n",
    "H1 = (np.diag(stemp[:chi]) @ vhtemp[:chi,:]).reshape(chi,d,d,d,d,d)\n",
    "\n",
    "# second decomposition\n",
    "utemp,stemp,vhtemp = LA.svd(H1.transpose(1,2,0,3,4,5).reshape(d**2,chi*d**3),full_matrices=False)\n",
    "U1 = (utemp[:,:chi]).reshape(d,d,chi)\n",
    "H2 = (np.diag(stemp[:chi]) @ vhtemp[:chi,:]).reshape(chi,chi,d,d,d).transpose(1,0,2,3,4)\n",
    "\n",
    "# third decomposition\n",
    "utemp,stemp,vhtemp = LA.svd(H2.reshape(chi**2,d**3),full_matrices=False)\n",
    "U2 = (utemp[:,:chi]).reshape(chi,chi,chi)\n",
    "H3 = (np.diag(stemp[:chi]) @ vhtemp[:chi,:]).reshape(chi,d,d,d)\n",
    "\n",
    "# fourth decomposition\n",
    "utemp,stemp,vhtemp = LA.svd(H3.reshape(chi*d,d**2),full_matrices=False)\n",
    "V3 = vhtemp[:chi,:].reshape(chi,d,d).transpose(1,2,0)\n",
    "H4 = (utemp[:,:chi] @ np.diag(stemp[:chi])).reshape(chi,d,chi)\n",
    "\n",
    "# check result\n",
    "H0recovered = ncon([U0,U1,U2,V3,H4],[[-1,-2,1],[-3,-4,2],[1,2,3],[-6,-7,4],[3,-5,4]])\n",
    "totErr = LA.norm(H0 - H0recovered) / LA.norm(H0)\n",
    "\n",
    "print(totErr)"
   ]
  },
  {
   "cell_type": "markdown",
   "metadata": {},
   "source": [
    "**Notes on multi-stage decompositions:**\n",
    "\n",
    "* One has freedom in choosing the sequence of decompositions in a multi-stage decomposition. If the decompositions include index truncations, then some sequences could be computationally cheaper than others.\n",
    "\n",
    "* When following the outlined procedure for multi-stage decompositions the truncation error at each individual decomposition step is minimized. However the cumulative error from the sequence of decompositions is not guaranteed to be minimal, and may indeed change depending on the particular sequence of decompositions used."
   ]
  },
  {
   "cell_type": "markdown",
   "metadata": {},
   "source": [
    "### Center of orthogonality (link centered)\n",
    "\n",
    "We extend the idea of center of orthogonality to links in a TN.\n",
    "\n",
    "The idea is that one can introduce a new link matrix $\\sigma$ situated on the link in question, which is initially defined as the identity matrix, and then proceed using one of the previous methods to fix $\\sigma$ as a center of orthgonality. This is illustrated in the figure below, where the direct orthogonalization approach is used to set the $B-C$ link as a center of orthgonality.\n",
    "\n",
    "<img src=\"img/tut4_fig3.png\" alt=\"drawing\" width=\"700\"/>\n",
    "\n",
    "For the link-centered center of orthogonality we shall impose an additional constraint: that the gauge shoukd be chosen such that the final form of link matrix should be diagonal, with positive elements in descending order of magnitude. \n",
    "\n",
    "Achieving this requires a final step over the previous orthogonalization approaches, where one should take the SVD of the link matrix $\\sigma'$ and then make a unitary change of gauge such that it is brought into diagonal form. The next figure illustrates this procedure, continuing on from the example in the previous figure.\n",
    "\n",
    "<img src=\"img/tut4_fig4.png\" alt=\"drawing\" width=\"700\"/>"
   ]
  },
  {
   "cell_type": "code",
   "execution_count": 15,
   "metadata": {},
   "outputs": [
    {
     "name": "stdout",
     "output_type": "stream",
     "text": [
      "0.5032603295021318\n"
     ]
    }
   ],
   "source": [
    "##### Example code: set B-C link as center of orthogonality\n",
    "\n",
    "d = 5 # index dimension\n",
    "A = np.random.rand(d,d,d)\n",
    "B = np.random.rand(d,d,d)\n",
    "C = np.random.rand(d,d,d)\n",
    "Sig = np.eye(d); # initial link matrix = identity matrix\n",
    "\n",
    "# generate gauge change matrices\n",
    "rho1 = ncon([A,A,B,B],[[1,2,3],[1,2,4],[3,5,-1],[4,5,-2]])\n",
    "rho2 = ncon([C,C],[[-1,1,2],[-2,1,2]])\n",
    "d1, u1 = LA.eigh(rho1); sq_d1 = np.sqrt(abs(d1))\n",
    "d2, u2 = LA.eigh(rho2); sq_d2 = np.sqrt(abs(d2))\n",
    "X1 = u1 @ np.diag(sq_d1) @ u1.T; X1inv = u1 @ np.diag(1/sq_d1) @ u1.T\n",
    "X2 = u2 @ np.diag(sq_d2) @ u2.T; X2inv = u2 @ np.diag(1/sq_d2) @ u2.T\n",
    "\n",
    "# implement gauge change\n",
    "Bprime = ncon([B,X1inv],[[-1,-2,1],[1,-3]])\n",
    "Cprime = ncon([X2inv,C],[[-1,1],[1,-2,-3]])\n",
    "Sig_prime = X1 @ Sig @ X2\n",
    "\n",
    "# perform unitary gauge change to diagonalize link matrix\n",
    "utemp, Sig_pp, vhtemp = LA.svd(Sig_prime,full_matrices=False)\n",
    "Bpp = ncon([Bprime,utemp],[[-1,-2,1],[1,-3]])\n",
    "Cpp = ncon([Cprime,vhtemp],[[1,-2,-3],[-1,1]])\n",
    "\n",
    "# check result\n",
    "H1 = ncon([A,Bpp,np.diag(Sig_pp),Cpp],[[-1,-2,1],[1,-3,2],[2,3],[3,-4,-5]])\n",
    "totErr = LA.norm(H0 - H1) / LA.norm(H0) \n",
    "\n",
    "print(totErr)"
   ]
  },
  {
   "cell_type": "markdown",
   "metadata": {},
   "source": [
    "#### Equivalence of the (link) center of orthogonality and the SVD:\n",
    "\n",
    "Given a network of tensors that contracts to a single tensor $H$, the form of the network produced from fixing a link as the center of orthogonality is related to an SVD of the tensor $H$, as we now explain.\n",
    "\n",
    "Let's continue with last example. We define tensor $H$ aas the result of contracting the original network and assume the SVD produces $H = U_H \\cdot S_H \\cdot V_H^\\dagger $. However, the network produced from setting tensor $\\sigma''$ as a center of orthogonality is understood as equivalent to an SVD given:\n",
    "\n",
    "(i) The grouping of network to the left of the center forms an isometry\n",
    "\n",
    "(ii) Matrix $\\sigma''$ is diagonal with positive elements in ascending order\n",
    "\n",
    "(iii) The network to the right of the center is also an isometry.\n",
    "\n",
    "Assuming that the singular values are non-degenerate, the SVD is known to be unique up to the signs of the singular vectors (or phases, for complex matrices). Thus we conclude that $U_H = A \\cdot B''$ and $V_H^\\dagger = C''$, up to signs/phases, while the link matrix $\\sigma''$ precisely equals the matrix of singular values $S_H$.\n",
    "\n",
    "In summary, the result of fixing a link within the network as a center of orthogonality is equivalent to an SVD: the resulting link matrix $\\sigma''$ contains the singular weights, while the networks to the left/right are equivalent under contraction to the U/V isometries.\n",
    "\n",
    "<img src=\"img/tut4_fig6.png\" alt=\"drawing\" width=\"700\"/>\n",
    "\n"
   ]
  },
  {
   "cell_type": "code",
   "execution_count": 16,
   "metadata": {},
   "outputs": [
    {
     "name": "stdout",
     "output_type": "stream",
     "text": [
      "5.23595037859644e-14\n",
      "3.285359848735979e-14\n",
      "5.076512510981851e-14\n"
     ]
    }
   ],
   "source": [
    "##### Example code: equivalence of center of orthogonality and SVD\n",
    "H = ncon([A,B,C],[[-1,-2,1],[1,-3,2],[2,-4,-5]])\n",
    "utemp,stemp,vhtemp = LA.svd(H.reshape(d**3,d**2),full_matrices=False)\n",
    "UH = utemp[:,:d].reshape(d,d,d,d)\n",
    "SH = stemp[:d]\n",
    "VH = vhtemp[:d,:].reshape(d,d,d)\n",
    "\n",
    "# compare with previous tensors from orthonormal form \n",
    "ErrU = LA.norm(abs(UH) - abs(ncon([A,Bpp],[[-1,-2,1],[1,-3,-4]])))\n",
    "ErrS = LA.norm(SH - Sig_pp) \n",
    "ErrV = LA.norm(abs(VH) - abs(Cpp))\n",
    "# all three results should be vanishingly small!!!\n",
    "\n",
    "print(ErrU)\n",
    "print(ErrS)\n",
    "print(ErrV)"
   ]
  },
  {
   "cell_type": "markdown",
   "metadata": {},
   "source": [
    "The identification between setting a center of orthogonality at a network link and the SVD of the network across the corresponding partition is a particularly useful result. Foremost, this provides a convenient means to optimally truncate indices within a network, as outlined in the following theorem.\n",
    "\n",
    "**Theorem**: Given a (loop-free) network of tensors $\\{A, B, C, ...\\}$, assume that we wish to truncate the link between a pair of tensors to a reduced dimension. Then the optimal truncation is given by first transforming the link in question into a center of orthogonality, and then truncating the smallest singular values from the corresponding link matrix.  The truncation error is given as the square-root of the sum of the squares of the discarded singular values."
   ]
  },
  {
   "cell_type": "markdown",
   "metadata": {},
   "source": [
    "## Canonical forms\n",
    "\n",
    "As discussed in tutorial 3, given a network of tensors $\\{A, B, C, ... \\}$ we can manipulate the gauge degrees of freedom to set a chosen tensor $A$ as a center of orthogonality. However, this does not fully fix the gauge degree of freedom on any of the network links; the tensor $A$ will still remain a center of orthogonality under a unitary change of gauge.\n",
    "\n",
    "In contrast, when setting a link as a center of orthogonality, the additional constraint that the link matrix is diagonal with positive elements in ascending order can completely fix the gauge freedom of this link. In general, this is true if the elements of the link matrix are non-degenerate, otherwise there will remain a unitary gauge freedom within the degenerate subspace. This uniqueness property follows from the correspondence between the link-based center of orthogonality and the SVD, which is similarly unique. \n",
    "\n",
    "In this section we describe a method for simultaneously setting every link of a network as a center of orthogonality, which also dictates a unique way to fix the gauge on each of the network links (i.e. such that no further non-trivial gauge changes can be made without destroying at least one of the centers of orthogonality). A network in this form, with every link simultaneously a center of orthogonality, is said to be in canonical form (or sometimes normal form)."
   ]
  },
  {
   "cell_type": "markdown",
   "metadata": {},
   "source": [
    "#### Procedure for transforming a network to canonical form:\n",
    "\n",
    "* Position a link matrix $\\sigma$, initially set as the identity matrix, on each internal index.\n",
    "\n",
    "* Use the direct orthogonalization approach to independently set every link matrix $\\sigma$ as a center, i.e. by making a gauge change of the form $X$ and $X^{-1}$ on each link, where $X$ is the principal square root of the corresponding branch density matrix $\\rho$.\n",
    "\n",
    "* Make a unitary change of gauge on each link, with unitary matrices $U$ and $V$ given from the SVD of the link matrix $\\sigma'$ and their conjugates, such that the link matrix is transformed into a diagonal matrix with positive elements in ascending order.\n",
    "\n",
    "<img src=\"img/tut4_fig7.png\" alt=\"drawing\" width=\"700\"/>"
   ]
  },
  {
   "cell_type": "markdown",
   "metadata": {},
   "source": [
    "A network that is in canonical form, such that all link matrices are simultaneously centers of orthogonality, can be manipulated in a number of useful ways. In particular, we can easily fix any chosen tensor as a center of orthogonality, thus allowing us to recover the results from tutorial 3. \n",
    "\n",
    "Consider, for example, the network in the figure below, which is presumed to be in canonical form. (i) Assuming we wish to set some specified tensor $E$ as the center of orthogonality, we first label each index with an arrow that points towards tensor E. (ii) We then absorb into each tensor any link matrices $\\sigma$ that reside on its incoming indices. (iii) It follows from properties of the canonical form that all tensors in the resulting network are now isometric with respect to the partition between their incoming and outgoing tensor indices, similar to the network produced from the 'pulling through' approach. Moreover, the specified tensor $E$ is a center of orthogonality in agreement with the established definition.\n",
    "\n",
    "<img src=\"img/tut4_fig8.png\" alt=\"drawing\" width=\"700\"/>\n"
   ]
  },
  {
   "cell_type": "markdown",
   "metadata": {},
   "source": [
    "### Summary: Canonical Forms\n",
    "\n",
    "The canonical form results from a particular way of fixing the gauge degrees of freedom in a tensor network, and is useful as it organizes a network in such a way that important information is readily available. By setting a network in canonical form one can:\n",
    "\n",
    "* Optimally truncate any link to reduced dimension, simply discarding the smallest singular values from the corresponding link matrix, and easily understand the corresponding truncation error.\n",
    "\n",
    "* Essentially remove the gauge ambiguity from the network description, due to the uniqueness of the canonical form.\n",
    "\n",
    "* Extract certain types information from the network (such as expectation values) in a simplified manner, due to the cancellations that arise in networks containing isometric tensors.\n",
    "\n",
    "----"
   ]
  },
  {
   "cell_type": "markdown",
   "metadata": {},
   "source": [
    "### Problem Set 4:\n",
    "\n",
    "Consider the tensor $H$ with the element-wise definition given by\n",
    "\n",
    "$$ H_{ijklm} = \\sqrt{i+2j+3k+4l+5m+15} \\quad \\text{(Python)}$$\n",
    "\n",
    "**(a)** Generate tensor $H$ assuming all indices are dimension $d = 6$ and evaluate the norm $||H||$. Define the normalized tensor $H_1 = H / ||H||$."
   ]
  },
  {
   "cell_type": "code",
   "execution_count": 17,
   "metadata": {},
   "outputs": [],
   "source": [
    "# (a) Define H and normalize\n",
    "d = 6\n",
    "\n",
    "H = np.zeros((d,d,d,d,d))\n",
    "\n",
    "for i in range(d):\n",
    "    for j in range(d):\n",
    "        for k in range(d):\n",
    "            for l in range(d):\n",
    "                for m in range(d):\n",
    "                    H[i,j,k,l,m] = np.sqrt(i + 2.*j + 3.*k + 4.*l + 5.*m + 15)\n",
    "                    \n",
    "H1 = H / LA.norm(H)"
   ]
  },
  {
   "cell_type": "markdown",
   "metadata": {},
   "source": [
    "**(b)** Use a multi-stage decomposition to split $H_1$ into a network of three tensors $\\{A, B, C\\}$ while truncating to index dimension $\\chi = 6$, according to the following figure:\n",
    "\n",
    "<img src=\"img/tut4_fig10.png\" alt=\"drawing\" width=\"500\"/>\n",
    "\n",
    "Compute the truncation error $\\varepsilon = ||H_1 - H_2||$, where $H_2$ is the tensor recovered from contracting $\\{A, B, C\\}$."
   ]
  },
  {
   "cell_type": "code",
   "execution_count": 21,
   "metadata": {},
   "outputs": [
    {
     "name": "stdout",
     "output_type": "stream",
     "text": [
      "9.504156572584146e-11\n"
     ]
    }
   ],
   "source": [
    "# (b) Split H1 using a multi-stage decomposition and truncate to index dimension chi=6\n",
    "chi = 6\n",
    "\n",
    "# first decomposition\n",
    "utemp,stemp,vhtemp = LA.svd(H1.reshape(d**2,d**3),full_matrices=False)\n",
    "A = (utemp[:,:chi]).reshape(d,d,chi)\n",
    "H2 = (np.diag(stemp[:chi]) @ vhtemp[:chi,:]).reshape(chi,d,d,d)\n",
    "\n",
    "# second decomposition\n",
    "utemp,stemp,vhtemp = LA.svd(H2.reshape(chi*d,d**2),full_matrices=False)\n",
    "B = (utemp[:,:chi]).reshape(chi,d,chi)\n",
    "C = (np.diag(stemp[:chi]) @ vhtemp[:chi,:]).reshape(chi,d,d)\n",
    "\n",
    "# check result\n",
    "H1recovered = ncon([A,B,C],[[-1,-2,1],[1,-3,2],[2,-4,-5]])\n",
    "totErr = LA.norm(H1 - H1recovered)\n",
    "\n",
    "print(totErr)"
   ]
  },
  {
   "cell_type": "markdown",
   "metadata": {},
   "source": [
    "**(c)** Make the appropriate change of gauge sich that the $A-B$ link becomes a center of orthogonality with a diagonal matrix $\\sigma'$. What are the singular values in $\\sigma'$? Check the validity of your gauge transformation by confirming that the singular values in $\\sigma'$ match those obtained directly from the SVD of tensor $H_2$ across the equivalent partition."
   ]
  },
  {
   "cell_type": "code",
   "execution_count": 25,
   "metadata": {},
   "outputs": [
    {
     "name": "stdout",
     "output_type": "stream",
     "text": [
      "4.459963872560997e-16\n",
      "[9.99958526e-01 9.10710202e-03 7.97572086e-05 1.61449112e-06\n",
      " 3.64748531e-08 8.06121453e-10 9.98939531e-17 9.98939531e-17\n",
      " 9.98939531e-17 9.98939531e-17 9.98939531e-17 9.98939531e-17\n",
      " 9.98939531e-17 9.98939531e-17 9.98939531e-17 9.98939531e-17\n",
      " 9.98939531e-17 9.98939531e-17 9.98939531e-17 9.98939531e-17\n",
      " 9.98939531e-17 9.98939531e-17 9.98939531e-17 9.98939531e-17\n",
      " 9.98939531e-17 9.98939531e-17 9.98939531e-17 9.98939531e-17\n",
      " 9.98939531e-17 9.98939531e-17 9.98939531e-17 9.98939531e-17\n",
      " 9.98939531e-17 9.98939531e-17 9.98939531e-17 9.98939531e-17]\n"
     ]
    }
   ],
   "source": [
    "# (c) Make link A-B a center. Compute singular values of sigmap. Check validity of gauge transf\n",
    "\n",
    "Sig = np.eye(chi); # initial link matrix = identity matrix\n",
    "\n",
    "# generate gauge change matrices\n",
    "rho1 = ncon([A,A],[[1,2,-1],[1,2,-2]])\n",
    "rho2 = ncon([B,B,C,C],[[-1,1,2],[-2,1,3],[2,4,5],[3,4,5]])\n",
    "d1, u1 = LA.eigh(rho1); sq_d1 = np.sqrt(abs(d1))\n",
    "d2, u2 = LA.eigh(rho2); sq_d2 = np.sqrt(abs(d2))\n",
    "X1 = u1 @ np.diag(sq_d1) @ u1.T; X1inv = u1 @ np.diag(1/sq_d1) @ u1.T\n",
    "X2 = u2 @ np.diag(sq_d2) @ u2.T; X2inv = u2 @ np.diag(1/sq_d2) @ u2.T\n",
    "\n",
    "\n",
    "utemp,Sigp,vhtemp = LA.svd(X1 @ Sig @ X2)\n",
    "Ap = ncon([A,X1inv*utemp],[[-1,-2,1],[1,-3]])\n",
    "Bp = ncon([B,vhtemp*X2inv],[[1,-2,-3],[-1,1]])\n",
    "\n",
    "# difference in singular values between SVD:\n",
    "_,svalues,_ = LA.svd(H1recovered.reshape(d**2,d**3),full_matrices=False)\n",
    "Serr = LA.norm(svalues[:chi] - Sigp)\n",
    "\n",
    "print(Serr)\n",
    "print(svalues)"
   ]
  },
  {
   "cell_type": "markdown",
   "metadata": {},
   "source": [
    "**(d)** Assume that the network $T$ of the following figure is in canonical form:\n",
    "\n",
    "<img src=\"img/tut4_fig12.png\" alt=\"drawing\" width=\"500\"/>\n",
    "\n",
    "Depicted in the right side of this last figure is the partial tensor trace of $T$ with its conjugate network. Draw the simplified network that results from using properties of the canonical form to cancel tensors wherever possible."
   ]
  },
  {
   "cell_type": "markdown",
   "metadata": {},
   "source": [
    "**(d) Solution**: Canonical form implies that the branch to the left of the $A-D$ link collapses to the identity with its conjugate, so the network simplifies to:\n",
    "\n",
    "<img src=\"img/tut4_d_solution.png\" alt=\"drawing\" width=\"400\"/>"
   ]
  },
  {
   "cell_type": "code",
   "execution_count": null,
   "metadata": {},
   "outputs": [],
   "source": []
  }
 ],
 "metadata": {
  "kernelspec": {
   "display_name": "Python 3",
   "language": "python",
   "name": "python3"
  },
  "language_info": {
   "codemirror_mode": {
    "name": "ipython",
    "version": 3
   },
   "file_extension": ".py",
   "mimetype": "text/x-python",
   "name": "python",
   "nbconvert_exporter": "python",
   "pygments_lexer": "ipython3",
   "version": "3.8.5"
  }
 },
 "nbformat": 4,
 "nbformat_minor": 2
}
